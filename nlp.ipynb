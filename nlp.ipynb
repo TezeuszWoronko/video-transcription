{
 "cells": [
  {
   "cell_type": "code",
   "execution_count": 1,
   "metadata": {},
   "outputs": [
    {
     "name": "stdout",
     "output_type": "stream",
     "text": [
      "[nltk_data] Downloading package stopwords to\n",
      "[nltk_data]     /home/iga_niemiec/nltk_data...\n",
      "[nltk_data]   Package stopwords is already up-to-date!\n",
      "[nltk_data] Downloading package punkt to\n",
      "[nltk_data]     /home/iga_niemiec/nltk_data...\n",
      "[nltk_data]   Package punkt is already up-to-date!\n"
     ]
    },
    {
     "data": {
      "text/plain": [
       "True"
      ]
     },
     "execution_count": 1,
     "metadata": {},
     "output_type": "execute_result"
    }
   ],
   "source": [
    "import re\n",
    "import json\n",
    "import nltk\n",
    "from nltk.stem import PorterStemmer\n",
    "from nltk.corpus import stopwords \n",
    "from nltk.tokenize import sent_tokenize, word_tokenize\n",
    "from nltk.tokenize import RegexpTokenizer\n",
    "nltk.download('stopwords')\n",
    "nltk.download('punkt')"
   ]
  },
  {
   "cell_type": "code",
   "execution_count": 2,
   "metadata": {},
   "outputs": [],
   "source": [
    "input_text = \"Catalina, Apple’s latest update to macOS, rolled out to the public this week and it has been living up to the rocky island of Santa Catalina it was named after. For consumers who are following the Apple way and only using their Mac in the way that Tim Cook and his team intended, all is well. But for those who have strayed away from 'the one true path', who require legacy applications for their workflow, or who have a slightly different way of doing things, Catalina is proving to be a headache.\"\n",
    "target_words = ['Apple', 'macOS', 'Mac']\n",
    "# TODO target words from a family of words"
   ]
  },
  {
   "cell_type": "code",
   "execution_count": 25,
   "metadata": {},
   "outputs": [],
   "source": [
    "# remove stop words and punctation\n",
    "\n",
    "def remove_stop_and_punctation (input_text):\n",
    "    \n",
    "    input_text = input_text.lower()\n",
    "    \n",
    "    p = re.compile(r'\\w+')\n",
    "\n",
    "    stop_words = set(stopwords.words('english')) \n",
    "  \n",
    "    word_tokens = word_tokenize(input_text) \n",
    "  \n",
    "    filtered_sentence = [w for w in word_tokens if not w in stop_words] \n",
    "  \n",
    "    filtered_sentence = [] \n",
    "  \n",
    "    for w in word_tokens: \n",
    "        if w not in stop_words and bool(p.match(w)): \n",
    "            filtered_sentence.append(w) \n",
    "  \n",
    "    return(filtered_sentence)\n",
    "    \n"
   ]
  },
  {
   "cell_type": "code",
   "execution_count": 26,
   "metadata": {},
   "outputs": [],
   "source": [
    "# stemming\n",
    "# TODO decide if its better or worse with that\n",
    "\n",
    "def stem_words (input_text):\n",
    "    ps = PorterStemmer()\n",
    "\n",
    "    stemmed_sentence = []\n",
    "\n",
    "    for word in input_text:\n",
    "        stemmed_sentence.append(ps.stem(word))\n",
    "    \n",
    "    return(stemmed_sentence)\n",
    "    \n",
    "\n"
   ]
  },
  {
   "cell_type": "code",
   "execution_count": 27,
   "metadata": {},
   "outputs": [],
   "source": [
    "# calculating nr of words in string\n",
    "def calculate_words_nr (stemmed_text, target_words):\n",
    "    \n",
    "    target_words = [word.lower() for word in target_words]\n",
    "    stemmed_words = stem_words(target_words)\n",
    "    \n",
    "    words_nr = sum(word in stemmed_words for word in stemmed_text)\n",
    "    \n",
    "    return(words_nr)\n"
   ]
  },
  {
   "cell_type": "code",
   "execution_count": 28,
   "metadata": {},
   "outputs": [
    {
     "name": "stdout",
     "output_type": "stream",
     "text": [
      "Catalina, Apple’s latest update to macOS, rolled out to the public this week and it has been living up to the rocky island of Santa Catalina it was named after. For consumers who are following the Apple way and only using their Mac in the way that Tim Cook and his team intended, all is well. But for those who have strayed away from 'the one true path', who require legacy applications for their workflow, or who have a slightly different way of doing things, Catalina is proving to be a headache.\n",
      "['Apple', 'macOS', 'Mac']\n",
      "['catalina', 'apple', 'latest', 'update', 'macos', 'rolled', 'public', 'week', 'living', 'rocky', 'island', 'santa', 'catalina', 'named', 'consumers', 'following', 'apple', 'way', 'using', 'mac', 'way', 'tim', 'cook', 'team', 'intended', 'well', 'strayed', 'away', 'one', 'true', 'path', 'require', 'legacy', 'applications', 'workflow', 'slightly', 'different', 'way', 'things', 'catalina', 'proving', 'headache']\n",
      "['catalina', 'appl', 'latest', 'updat', 'maco', 'roll', 'public', 'week', 'live', 'rocki', 'island', 'santa', 'catalina', 'name', 'consum', 'follow', 'appl', 'way', 'use', 'mac', 'way', 'tim', 'cook', 'team', 'intend', 'well', 'stray', 'away', 'one', 'true', 'path', 'requir', 'legaci', 'applic', 'workflow', 'slightli', 'differ', 'way', 'thing', 'catalina', 'prove', 'headach']\n",
      "4\n"
     ]
    }
   ],
   "source": [
    "input_text_no_stop = remove_stop_and_punctation(input_text)\n",
    "input_text_stemmed = stem_words(input_text_no_stop)\n",
    "words_nr = calculate_words_nr(input_text_stemmed, target_words)\n",
    "\n",
    "print(input_text)\n",
    "print(target_words)\n",
    "print(input_text_no_stop)\n",
    "print(input_text_stemmed)\n",
    "print(words_nr)"
   ]
  },
  {
   "cell_type": "code",
   "execution_count": 59,
   "metadata": {},
   "outputs": [
    {
     "name": "stdout",
     "output_type": "stream",
     "text": [
      "[{'text': 'this highly unusual and controversial earnings call for Tesla is at the top of Wall Street so you can see', 'time': 0}, {'text': 'a stock sinking', 'time': 6563}, {'text': 'the minute CEO Elon Musk started insulting analysts', 'time': 8196}, {'text': \"if I'm insulting his own guess what we did was\", 'time': 12483}, {'text': 'we pulled up some of the most controversial moments during the call listen and judge for yourself', 'time': 15159}]\n"
     ]
    }
   ],
   "source": [
    "# parse timestamp json file\n",
    "with open('./analysts.json') as fhandler:\n",
    "    \n",
    "    parsed_json = json.load(fhandler)\n",
    "    \n",
    "print(parsed_json)"
   ]
  }
 ],
 "metadata": {
  "kernelspec": {
   "display_name": "Python 3",
   "language": "python",
   "name": "python3"
  },
  "language_info": {
   "codemirror_mode": {
    "name": "ipython",
    "version": 3
   },
   "file_extension": ".py",
   "mimetype": "text/x-python",
   "name": "python",
   "nbconvert_exporter": "python",
   "pygments_lexer": "ipython3",
   "version": "3.7.4"
  }
 },
 "nbformat": 4,
 "nbformat_minor": 2
}
